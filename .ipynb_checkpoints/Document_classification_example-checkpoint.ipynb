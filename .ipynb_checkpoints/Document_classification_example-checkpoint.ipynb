{
 "cells": [
  {
   "cell_type": "markdown",
   "metadata": {
    "colab_type": "text",
    "id": "_WNtIGOsD-hW"
   },
   "source": [
    "# Document Classification Example\n",
    "\n",
    " inspired by [Hierarchical Attention Networks for Document Classification](https://www.cs.cmu.edu/~diyiy/docs/naacl16.pdf)\n",
    " \n",
    " Using **Word attention** and **Sentence Attention** and applied for **Document** classification\n",
    " \n",
    "参考にしたコード： https://github.com/richliao/textClassifier"
   ]
  },
  {
   "cell_type": "code",
   "execution_count": 120,
   "metadata": {
    "colab": {
     "autoexec": {
      "startup": false,
      "wait_interval": 0
     }
    },
    "colab_type": "code",
    "collapsed": true,
    "id": "riTaC31Zz6mb"
   },
   "outputs": [],
   "source": [
    "from keras.preprocessing import sequence\n",
    "from keras.models import Model\n",
    "from keras.layers import Dense, Embedding,Input,Bidirectional,TimeDistributed,Activation,Lambda,Multiply,Dropout\n",
    "from keras.layers import LSTM,GRU\n",
    "import keras.backend as K\n",
    "from keras.optimizers import Adam\n",
    "import numpy as np\n",
    "import pandas as pd\n",
    "import seaborn as sns\n",
    "import os\n",
    "import matplotlib.pyplot as plt\n",
    "from bs4 import BeautifulSoup\n",
    "import re\n",
    "from keras.preprocessing.text import Tokenizer, text_to_word_sequence\n",
    "from keras.preprocessing.sequence import pad_sequences\n",
    "from keras.utils.np_utils import to_categorical\n",
    "os.environ[\"CUDA_VISIBLE_DEVICES\"] = \"3\""
   ]
  },
  {
   "cell_type": "markdown",
   "metadata": {},
   "source": [
    "## IMDB Datset\n",
    "\n",
    "\n",
    "モデルへの入力データ：（MAX_SENT_LENGTH ,MAX_SENTS, MAX_NB_WORDS）"
   ]
  },
  {
   "cell_type": "code",
   "execution_count": 121,
   "metadata": {
    "colab": {
     "autoexec": {
      "startup": false,
      "wait_interval": 0
     },
     "base_uri": "https://localhost:8080/",
     "height": 185
    },
    "colab_type": "code",
    "collapsed": true,
    "executionInfo": {
     "elapsed": 824,
     "status": "error",
     "timestamp": 1526970468330,
     "user": {
      "displayName": "福馬智生",
      "photoUrl": "https://lh3.googleusercontent.com/a/default-user=s128",
      "userId": "113993585741673199186"
     },
     "user_tz": -540
    },
    "id": "w-snblFieR0l",
    "outputId": "490b0cf9-1d0a-43da-a664-ece56eb6c096"
   },
   "outputs": [],
   "source": [
    "data_path ='input/labeledTrainData.tsv'"
   ]
  },
  {
   "cell_type": "code",
   "execution_count": 122,
   "metadata": {
    "colab": {
     "autoexec": {
      "startup": false,
      "wait_interval": 0
     },
     "base_uri": "https://localhost:8080/",
     "height": 851
    },
    "colab_type": "code",
    "collapsed": true,
    "executionInfo": {
     "elapsed": 625,
     "status": "error",
     "timestamp": 1526970441902,
     "user": {
      "displayName": "福馬智生",
      "photoUrl": "https://lh3.googleusercontent.com/a/default-user=s128",
      "userId": "113993585741673199186"
     },
     "user_tz": -540
    },
    "id": "N5-PkBDah0aw",
    "outputId": "bd6e377e-3599-48c1-f37e-5be2a65a1db4"
   },
   "outputs": [],
   "source": [
    "data_train = pd.read_csv(data_path, sep='\\t')"
   ]
  },
  {
   "cell_type": "code",
   "execution_count": 123,
   "metadata": {},
   "outputs": [
    {
     "data": {
      "text/plain": [
       "(25000, 3)"
      ]
     },
     "execution_count": 123,
     "metadata": {},
     "output_type": "execute_result"
    }
   ],
   "source": [
    "#shapeの確認\n",
    "data_train.shape"
   ]
  },
  {
   "cell_type": "code",
   "execution_count": 5,
   "metadata": {
    "collapsed": true
   },
   "outputs": [],
   "source": [
    "def clean_str(string):\n",
    "    \"\"\"\n",
    "    Tokenization/string cleaning for dataset\n",
    "    Every dataset is lower cased except\n",
    "    \"\"\"\n",
    "    string = re.sub(r\"\\\\\", \"\", string)    \n",
    "    string = re.sub(r\"\\'\", \"\", string)    \n",
    "    string = re.sub(r\"\\\"\", \"\", string)    \n",
    "    return string.strip().lower()"
   ]
  },
  {
   "cell_type": "code",
   "execution_count": 6,
   "metadata": {
    "colab": {
     "autoexec": {
      "startup": false,
      "wait_interval": 0
     }
    },
    "colab_type": "code",
    "collapsed": true,
    "id": "wKFo6RoRehpV"
   },
   "outputs": [],
   "source": [
    "from nltk import tokenize\n",
    "\n",
    "reviews = []　　#一文ごとに入った配列\n",
    "labels = []   # 正解ラベル\n",
    "texts = []　　　　# 1レビュー\n",
    "\n",
    "for idx in range(data_train.review.shape[0]):\n",
    "    text = BeautifulSoup(data_train.review[idx],'lxml')\n",
    "    text = clean_str(text.get_text())\n",
    "    texts.append(text)\n",
    "    sentences = tokenize.sent_tokenize(text)\n",
    "    reviews.append(sentences)\n",
    "    \n",
    "    labels.append(data_train.sentiment[idx])"
   ]
  },
  {
   "cell_type": "code",
   "execution_count": 18,
   "metadata": {},
   "outputs": [
    {
     "data": {
      "text/plain": [
       "['i loved the episode but seems to me there should have been some quick reference to the secretary getting punished for effectively being an accomplice after the fact.',\n",
       " 'while i like when a episode of columbo has an unpredictable twist like this one, its resolution should be part of the conclusion of the episode, along with the uncovering of the murderer.the interplay between peter falk and ruth gordon is priceless.',\n",
       " 'at one point, gordon, playing a famous writer, makes some comment about being flattered by the famous lt. columbo, making a tongue-in-cheek allusion to the detectives real life fame as a crime-solver.',\n",
       " 'this is one of the best of many great columbo installments.']"
      ]
     },
     "execution_count": 18,
     "metadata": {},
     "output_type": "execute_result"
    }
   ],
   "source": [
    "reviews[45]"
   ]
  },
  {
   "cell_type": "code",
   "execution_count": 22,
   "metadata": {
    "collapsed": true
   },
   "outputs": [],
   "source": [
    "MAX_SENT_LENGTH = 100  #一文あたりの最大単語数\n",
    "MAX_SENTS = 15    #一文書あたりの最大文章数\n",
    "MAX_NB_WORDS = 20000  #使用する最大単語数\n",
    "VALIDATION_SPLIT = 0.2  # バリデーションの割合"
   ]
  },
  {
   "cell_type": "code",
   "execution_count": 15,
   "metadata": {},
   "outputs": [
    {
     "name": "stdout",
     "output_type": "stream",
     "text": [
      "Total 81501 unique tokens.\n",
      "Shape of data tensor: (25000, 15, 100)\n",
      "Shape of label tensor: (25000, 2)\n"
     ]
    }
   ],
   "source": [
    "tokenizer = Tokenizer(num_words=MAX_NB_WORDS)\n",
    "tokenizer.fit_on_texts(texts)\n",
    "\n",
    "data = np.zeros((len(texts), MAX_SENTS, MAX_SENT_LENGTH), dtype='int32')\n",
    "\n",
    "for i, sentences in enumerate(reviews):\n",
    "    for j, sent in enumerate(sentences):\n",
    "        if j< MAX_SENTS:\n",
    "            wordTokens = text_to_word_sequence(sent)\n",
    "            k=0\n",
    "            for _, word in enumerate(wordTokens):\n",
    "                if k<MAX_SENT_LENGTH and tokenizer.word_index[word]<MAX_NB_WORDS:\n",
    "                    data[i,j,k] = tokenizer.word_index[word]\n",
    "                    k=k+1                    \n",
    "                    \n",
    "word_index = tokenizer.word_index\n",
    "print('Total %s unique tokens.' % len(word_index))\n",
    "\n",
    "labels = to_categorical(np.asarray(labels))\n",
    "print('Shape of data:', data.shape)\n",
    "print('Shape of label tensor:', labels.shape)"
   ]
  },
  {
   "cell_type": "code",
   "execution_count": 23,
   "metadata": {
    "collapsed": true
   },
   "outputs": [],
   "source": [
    "indices = np.arange(data.shape[0])\n",
    "np.random.shuffle(indices)\n",
    "data = data[indices]\n",
    "labels = labels[indices]\n",
    "nb_validation_samples = int(VALIDATION_SPLIT * data.shape[0])\n",
    "\n",
    "x_train = data[:-nb_validation_samples]\n",
    "y_train = labels[:-nb_validation_samples]\n",
    "x_val = data[-nb_validation_samples:]\n",
    "y_val = labels[-nb_validation_samples:]"
   ]
  },
  {
   "cell_type": "code",
   "execution_count": 26,
   "metadata": {
    "colab": {
     "autoexec": {
      "startup": false,
      "wait_interval": 0
     },
     "base_uri": "https://localhost:8080/",
     "height": 71
    },
    "colab_type": "code",
    "executionInfo": {
     "elapsed": 551,
     "status": "ok",
     "timestamp": 1526969733091,
     "user": {
      "displayName": "福馬智生",
      "photoUrl": "https://lh3.googleusercontent.com/a/default-user=s128",
      "userId": "113993585741673199186"
     },
     "user_tz": -540
    },
    "id": "7yrq7ZzeeTSx",
    "outputId": "bc7ba659-6c3c-4f24-94f7-61aef9b80bb7"
   },
   "outputs": [
    {
     "name": "stdout",
     "output_type": "stream",
     "text": [
      "trainとvalidationにおけるP/Nのデータ数\n",
      "[  9947.  10053.]\n",
      "[ 2553.  2447.]\n"
     ]
    }
   ],
   "source": [
    "print('trainとvalidationにおけるP/Nのデータ数')\n",
    "print(y_train.sum(axis=0))\n",
    "print(y_val.sum(axis=0))"
   ]
  },
  {
   "cell_type": "markdown",
   "metadata": {
    "colab_type": "text",
    "id": "xooQMMz60e4F"
   },
   "source": [
    "# モデルの構築"
   ]
  },
  {
   "cell_type": "code",
   "execution_count": 32,
   "metadata": {
    "colab": {
     "autoexec": {
      "startup": false,
      "wait_interval": 0
     }
    },
    "colab_type": "code",
    "collapsed": true,
    "id": "HdUUZ49W0ah9"
   },
   "outputs": [],
   "source": [
    "#---------WordEmbedding-----------\n",
    "hid_dim = 64  #隠れ層の次元数\n",
    "embed_size = 128 #単語の埋め込み次元数\n",
    "att_dim = 32  # attentionの計算のための全結合層における出力の次元\n",
    "drop =0.5 #Dropout\n",
    "out_size=2 # 最終出力数\n",
    "\n",
    "#---------SentenceEmbedding-----------\n",
    "\n",
    "hid_dim2 = 64  #隠れ層の次元数\n",
    "att_dim2 = 32  # attentionの計算のための全結合層における出力の次元\n"
   ]
  },
  {
   "cell_type": "code",
   "execution_count": 40,
   "metadata": {
    "colab": {
     "autoexec": {
      "startup": false,
      "wait_interval": 0
     }
    },
    "colab_type": "code",
    "collapsed": true,
    "id": "8VMz5ZoF1PQQ"
   },
   "outputs": [],
   "source": [
    "inputs =Input(shape=(MAX_SENT_LENGTH,))\n",
    "emb= Embedding(MAX_NB_WORDS , embed_size)(inputs)  #Embedding層\n",
    "\n",
    "state = Bidirectional(GRU(hid_dim, return_sequences=True))(emb)  #GRUかLSTM\n",
    "#-------  Word Attention  ----\n",
    "u_it = TimeDistributed(Dense(att_dim, activation='tanh'),name='T1')(state)\n",
    "score = TimeDistributed(Dense(1),name='T2')(u_it)\n",
    "score_ = Lambda(lambda x: K.reshape(x, (K.shape(x)[0], MAX_SENT_LENGTH)))(score)\n",
    "alpha=Activation('softmax')(score_)\n",
    "alpha_ = Lambda(lambda x: K.expand_dims(x))(alpha)\n",
    "alphahs=Multiply(name='attention_mul')([alpha_,state])\n",
    "s = Lambda(lambda x: K.sum(x, axis=1))(alphahs)\n",
    "#-----------------------------------\n",
    "\n",
    "sent_Encoder = Model(inputs, s)"
   ]
  },
  {
   "cell_type": "code",
   "execution_count": 44,
   "metadata": {
    "colab": {
     "autoexec": {
      "startup": false,
      "wait_interval": 0
     }
    },
    "colab_type": "code",
    "collapsed": true,
    "id": "dAY-6hRkKW5w"
   },
   "outputs": [],
   "source": [
    "doc_input = Input(shape=(MAX_SENTS,MAX_SENT_LENGTH))\n",
    "encoded_sent = TimeDistributed(sent_Encoder)(doc_input)\n",
    "\n",
    "state2= Bidirectional(GRU(hid_dim2, return_sequences=True))(encoded_sent)\n",
    "\n",
    "#-------  Sentence Attention  ----\n",
    "u_it2 = TimeDistributed(Dense(att_dim2, activation='tanh'),name='T1')(state2)\n",
    "score2 = TimeDistributed(Dense(1),name='T2')(u_it2)\n",
    "score_2 = Lambda(lambda x: K.reshape(x, (K.shape(x)[0], MAX_SENTS)))(score2)\n",
    "alpha2=Activation('softmax')(score_2)\n",
    "alpha_2 = Lambda(lambda x: K.expand_dims(x))(alpha2)\n",
    "\n",
    "alphahs2=Multiply(name='attention_mul')([alpha_2,state2])\n",
    "s2 = Lambda(lambda x: K.sum(x, axis=1))(alphahs2)\n",
    "#-----------------------------------\n",
    "preds = Dense(out_size, activation='softmax')(s2)\n",
    "model = Model(doc_input, preds)"
   ]
  },
  {
   "cell_type": "code",
   "execution_count": 45,
   "metadata": {
    "colab": {
     "autoexec": {
      "startup": false,
      "wait_interval": 0
     },
     "base_uri": "https://localhost:8080/",
     "height": 547
    },
    "colab_type": "code",
    "executionInfo": {
     "elapsed": 550,
     "status": "ok",
     "timestamp": 1526969323394,
     "user": {
      "displayName": "福馬智生",
      "photoUrl": "https://lh3.googleusercontent.com/a/default-user=s128",
      "userId": "113993585741673199186"
     },
     "user_tz": -540
    },
    "id": "C2B72aR_drpX",
    "outputId": "c702f71f-6f15-46cf-87c9-41675bbd8376"
   },
   "outputs": [
    {
     "name": "stdout",
     "output_type": "stream",
     "text": [
      "__________________________________________________________________________________________________\n",
      "Layer (type)                    Output Shape         Param #     Connected to                     \n",
      "==================================================================================================\n",
      "input_12 (InputLayer)           (None, 15, 100)      0                                            \n",
      "__________________________________________________________________________________________________\n",
      "time_distributed_3 (TimeDistrib (None, 15, 128)      2638273     input_12[0][0]                   \n",
      "__________________________________________________________________________________________________\n",
      "bidirectional_11 (Bidirectional (None, 15, 128)      74112       time_distributed_3[0][0]         \n",
      "__________________________________________________________________________________________________\n",
      "T1 (TimeDistributed)            (None, 15, 32)       4128        bidirectional_11[0][0]           \n",
      "__________________________________________________________________________________________________\n",
      "T2 (TimeDistributed)            (None, 15, 1)        33          T1[0][0]                         \n",
      "__________________________________________________________________________________________________\n",
      "lambda_24 (Lambda)              (None, 15)           0           T2[0][0]                         \n",
      "__________________________________________________________________________________________________\n",
      "activation_11 (Activation)      (None, 15)           0           lambda_24[0][0]                  \n",
      "__________________________________________________________________________________________________\n",
      "lambda_25 (Lambda)              (None, 15, 1)        0           activation_11[0][0]              \n",
      "__________________________________________________________________________________________________\n",
      "attention_mul (Multiply)        (None, 15, 128)      0           lambda_25[0][0]                  \n",
      "                                                                 bidirectional_11[0][0]           \n",
      "__________________________________________________________________________________________________\n",
      "lambda_26 (Lambda)              (None, 128)          0           attention_mul[0][0]              \n",
      "__________________________________________________________________________________________________\n",
      "dense_24 (Dense)                (None, 2)            258         lambda_26[0][0]                  \n",
      "==================================================================================================\n",
      "Total params: 2,716,804\n",
      "Trainable params: 2,716,804\n",
      "Non-trainable params: 0\n",
      "__________________________________________________________________________________________________\n"
     ]
    }
   ],
   "source": [
    "model.summary()"
   ]
  },
  {
   "cell_type": "code",
   "execution_count": 46,
   "metadata": {
    "colab": {
     "autoexec": {
      "startup": false,
      "wait_interval": 0
     }
    },
    "colab_type": "code",
    "collapsed": true,
    "id": "b3FTJfqg1Un-"
   },
   "outputs": [],
   "source": [
    "adam = Adam(lr=1e-4, beta_1=0.9, beta_2=0.999, epsilon=1e-08, decay=0.0)\n",
    "\n",
    "model.compile(optimizer=adam, loss='categorical_crossentropy', metrics=['accuracy'])"
   ]
  },
  {
   "cell_type": "code",
   "execution_count": 47,
   "metadata": {
    "colab": {
     "autoexec": {
      "startup": false,
      "wait_interval": 0
     }
    },
    "colab_type": "code",
    "collapsed": true,
    "id": "BUXe2EfU7JxI"
   },
   "outputs": [],
   "source": [
    "epochs = 2\n",
    "batch_size = 32"
   ]
  },
  {
   "cell_type": "code",
   "execution_count": 49,
   "metadata": {
    "colab": {
     "autoexec": {
      "startup": false,
      "wait_interval": 0
     },
     "base_uri": "https://localhost:8080/",
     "height": 139
    },
    "colab_type": "code",
    "executionInfo": {
     "elapsed": 347288,
     "status": "ok",
     "timestamp": 1526963252262,
     "user": {
      "displayName": "福馬智生",
      "photoUrl": "https://lh3.googleusercontent.com/a/default-user=s128",
      "userId": "113993585741673199186"
     },
     "user_tz": -540
    },
    "id": "t4Cc6WaZ61ZB",
    "outputId": "04687cc4-e781-4853-d191-99ff15a42923"
   },
   "outputs": [
    {
     "name": "stdout",
     "output_type": "stream",
     "text": [
      "Train on 20000 samples, validate on 5000 samples\n",
      "Epoch 1/2\n",
      "20000/20000 [==============================] - 130s 6ms/step - loss: 0.6312 - acc: 0.5942 - val_loss: 0.3612 - val_acc: 0.8442\n",
      "Epoch 2/2\n",
      "20000/20000 [==============================] - 126s 6ms/step - loss: 0.2734 - acc: 0.8891 - val_loss: 0.3052 - val_acc: 0.8764\n"
     ]
    },
    {
     "data": {
      "text/plain": [
       "<keras.callbacks.History at 0x7f6fa0706828>"
      ]
     },
     "execution_count": 49,
     "metadata": {},
     "output_type": "execute_result"
    }
   ],
   "source": [
    "model.fit(x_train, y_train, batch_size=batch_size, epochs=epochs, verbose=1, shuffle=True, validation_data=(x_val,y_val))  "
   ]
  },
  {
   "cell_type": "markdown",
   "metadata": {
    "colab_type": "text",
    "id": "IxBlAdFVAsgI"
   },
   "source": [
    "# Attentionの可視化"
   ]
  },
  {
   "cell_type": "code",
   "execution_count": 85,
   "metadata": {
    "collapsed": true
   },
   "outputs": [],
   "source": [
    "id_to_word = {value:key for key,value in tokenizer.word_index.items()}\n",
    "id_to_word[0]=''"
   ]
  },
  {
   "cell_type": "code",
   "execution_count": 112,
   "metadata": {
    "colab": {
     "autoexec": {
      "startup": false,
      "wait_interval": 0
     },
     "base_uri": "https://localhost:8080/",
     "height": 105
    },
    "colab_type": "code",
    "executionInfo": {
     "elapsed": 599,
     "status": "ok",
     "timestamp": 1526963260587,
     "user": {
      "displayName": "福馬智生",
      "photoUrl": "https://lh3.googleusercontent.com/a/default-user=s128",
      "userId": "113993585741673199186"
     },
     "user_tz": -540
    },
    "id": "bI9VNjkK6-Pw",
    "outputId": "fc0d273a-eb5a-448c-bd54-c17790764c84"
   },
   "outputs": [
    {
     "name": "stdout",
     "output_type": "stream",
     "text": [
      "元文章\n",
      "['hollywood hotel was the last movie musical that busby berkeley directed for warner bros his directing style had changed or evolved to the point that this film does not contain his signature overhead shots or huge production numbers with thousands of extras                                                          ', 'by the last few years of the thirties swing style big bands were recording the years biggest popular hits                                                                                 ', 'the swing era also called the big band era has been dated from 1935 to 1944 or 1939 to 1949 although it is impossible to exactly the moment that the swing era began benny goodmans engagement at the ballroom in los angeles in the late summer of 1935 was certainly one of the early that swing was entering the consciousness of mainstream americas youth                                    ', 'when goodman featured his swing repertoire rather than the society style dance music that his band had been playing the youth in the audience went wild                                                                          ', 'that was the beginning but since radio live concerts and word of mouth were the primary methods available to spread the phenomena it took some time before swing made enough to produce big hits that showed up on the pop charts                                                           ', 'in hollywood hotel the appearance of benny goodman and his orchestra and raymond paige and his orchestra in the film indicates that the film industry was ready to capitalize on the shift in musical taste the film was in production only a year and a half or so after goodmans ballroom engagement                                                ', 'there are a few interesting musical moments here and there in hollywood hotel but except for benny goodman and his sing sing sing there isnt a lot to commend                                                                       ', 'otherwise the most interesting musical sequences are the opening hooray for hollywood parade and let that be a lesson to you production number at the drive in restaurant                                                                        ', 'the film is most interesting to see and hear benny goodman and his orchestra play and dick powell and frances sing                                                                               ']\n",
      "文章数: 9\n"
     ]
    }
   ],
   "source": [
    "num=3\n",
    "\n",
    "print('元文章')\n",
    "L=[]\n",
    "for i,sen in enumerate(x_val[num]):\n",
    "    if np.sum(sen)>0:\n",
    "        l = ' '.join([id_to_word[id]for  id in sen])\n",
    "        L.append(l)\n",
    "print(L)\n",
    "print('文章数:',len(L))"
   ]
  },
  {
   "cell_type": "code",
   "execution_count": 114,
   "metadata": {
    "colab": {
     "autoexec": {
      "startup": false,
      "wait_interval": 0
     },
     "base_uri": "https://localhost:8080/",
     "height": 401
    },
    "colab_type": "code",
    "executionInfo": {
     "elapsed": 1225,
     "status": "ok",
     "timestamp": 1526963342620,
     "user": {
      "displayName": "福馬智生",
      "photoUrl": "https://lh3.googleusercontent.com/a/default-user=s128",
      "userId": "113993585741673199186"
     },
     "user_tz": -540
    },
    "id": "myEV7wFfBTYP",
    "outputId": "17362155-e010-4355-a3c2-0943d7850abd"
   },
   "outputs": [
    {
     "name": "stdout",
     "output_type": "stream",
     "text": [
      "(15,)\n",
      "attention weight 最大Index9文目\n"
     ]
    },
    {
     "data": {
      "image/png": "[encoded data removed]",
      "text/plain": [
       "<matplotlib.figure.Figure at 0x7f6f884ffe80>"
      ]
     },
     "metadata": {},
     "output_type": "display_data"
    }
   ],
   "source": [
    "# attention weight\n",
    "get_Attention = K.function([model.layers[0].input],\n",
    "                                  [model.layers[6].output])\n",
    "attention = get_Attention([x_val[num:num+1]])[0][0]\n",
    "print(attention.shape)\n",
    "print('attention weight 最大Index{}文目'.format(np.argmax(attention)+1,))\n",
    "\n",
    "plt.plot(attention)\n",
    "plt.show()"
   ]
  },
  {
   "cell_type": "code",
   "execution_count": 115,
   "metadata": {
    "colab": {
     "autoexec": {
      "startup": false,
      "wait_interval": 0
     },
     "base_uri": "https://localhost:8080/",
     "height": 34
    },
    "colab_type": "code",
    "executionInfo": {
     "elapsed": 543,
     "status": "ok",
     "timestamp": 1526963264576,
     "user": {
      "displayName": "福馬智生",
      "photoUrl": "https://lh3.googleusercontent.com/a/default-user=s128",
      "userId": "113993585741673199186"
     },
     "user_tz": -540
    },
    "id": "40PROR4qCR0i",
    "outputId": "26ac898c-3624-4bc3-9eec-863e2c219d56"
   },
   "outputs": [
    {
     "data": {
      "text/plain": [
       "1.0000001"
      ]
     },
     "execution_count": 115,
     "metadata": {},
     "output_type": "execute_result"
    }
   ],
   "source": [
    "# attention　weightの合計が１の確\n",
    "np.sum(attention)"
   ]
  },
  {
   "cell_type": "code",
   "execution_count": 140,
   "metadata": {
    "colab": {
     "autoexec": {
      "startup": false,
      "wait_interval": 0
     },
     "base_uri": "https://localhost:8080/",
     "height": 1172
    },
    "colab_type": "code",
    "executionInfo": {
     "elapsed": 2433,
     "status": "ok",
     "timestamp": 1526963267716,
     "user": {
      "displayName": "福馬智生",
      "photoUrl": "https://lh3.googleusercontent.com/a/default-user=s128",
      "userId": "113993585741673199186"
     },
     "user_tz": -540
    },
    "id": "UpYBHtpnBYDw",
    "outputId": "f204a04f-9ad8-4c19-929f-002c52a2d25b"
   },
   "outputs": [
    {
     "name": "stderr",
     "output_type": "stream",
     "text": [
      "/home/fukuma/.pyenv/versions/anaconda3-5.0.1/lib/python3.6/site-packages/matplotlib/font_manager.py:1316: UserWarning: findfont: Font family ['AppleMyungjo'] not found. Falling back to DejaVu Sans\n",
      "  (prop.get_family(), self.defaultFamily[fontext]))\n"
     ]
    },
    {
     "data": {
      "image/png": "[encoded data removed]",
      "text/plain": [
       "<matplotlib.figure.Figure at 0x7f6f4449aa58>"
      ]
     },
     "metadata": {},
     "output_type": "display_data"
    }
   ],
   "source": [
    "# 各文章へのattention weight\n",
    "xtick = ['sentence{}'.format(i) for i,_ in enumerate(L)]\n",
    "plt.figure(figsize=(5, 1))\n",
    "sns.set(font='AppleMyungjo')\n",
    "sns.heatmap(attention[np.newaxis,:],cmap=\"Blues\",xticklabels=xtick,yticklabels=False)\n",
    "plt.show()"
   ]
  },
  {
   "cell_type": "code",
   "execution_count": 0,
   "metadata": {
    "colab": {
     "autoexec": {
      "startup": false,
      "wait_interval": 0
     }
    },
    "colab_type": "code",
    "collapsed": true,
    "id": "mZRS87tQDNjs"
   },
   "outputs": [],
   "source": []
  }
 ],
 "metadata": {
  "accelerator": "GPU",
  "colab": {
   "collapsed_sections": [],
   "default_view": {},
   "name": "Document_classification_example.ipynb",
   "provenance": [],
   "version": "0.3.2",
   "views": {}
  },
  "kernelspec": {
   "display_name": "Python 3",
   "language": "python",
   "name": "python3"
  },
  "language_info": {
   "codemirror_mode": {
    "name": "ipython",
    "version": 3
   },
   "file_extension": ".py",
   "mimetype": "text/x-python",
   "name": "python",
   "nbconvert_exporter": "python",
   "pygments_lexer": "ipython3",
   "version": "3.6.3"
  }
 },
 "nbformat": 4,
 "nbformat_minor": 1
}
